{
 "cells": [
  {
   "cell_type": "code",
   "execution_count": null,
   "id": "initial_id",
   "metadata": {
    "collapsed": true
   },
   "outputs": [],
   "source": ""
  },
  {
   "metadata": {
    "jupyter": {
     "is_executing": true
    }
   },
   "cell_type": "code",
   "source": [
    "import sys\n",
    "\n",
    "# List\n",
    "list_gen = [x for x in range(1000000)]\n",
    "\n",
    "# Generator\n",
    "gen = (x for x in range(1000000))\n",
    "\n",
    "# Compare memory usage\n",
    "list_size = sys.getsizeof(list_gen)\n",
    "gen_size = sys.getsizeof(gen)\n",
    "\n",
    "(list_size, gen_size)\n"
   ],
   "id": "53fb53d9daa57e4",
   "outputs": [],
   "execution_count": null
  },
  {
   "metadata": {},
   "cell_type": "code",
   "outputs": [],
   "execution_count": null,
   "source": "",
   "id": "1ee316b241351bbf"
  }
 ],
 "metadata": {
  "kernelspec": {
   "display_name": "Python 3",
   "language": "python",
   "name": "python3"
  },
  "language_info": {
   "codemirror_mode": {
    "name": "ipython",
    "version": 2
   },
   "file_extension": ".py",
   "mimetype": "text/x-python",
   "name": "python",
   "nbconvert_exporter": "python",
   "pygments_lexer": "ipython2",
   "version": "2.7.6"
  }
 },
 "nbformat": 4,
 "nbformat_minor": 5
}
